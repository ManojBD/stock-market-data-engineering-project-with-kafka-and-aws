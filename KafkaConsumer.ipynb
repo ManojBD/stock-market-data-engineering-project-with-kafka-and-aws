{
 "cells": [
  {
   "cell_type": "code",
   "execution_count": 7,
   "id": "1bdfef60",
   "metadata": {
    "scrolled": true
   },
   "outputs": [],
   "source": [
    "from kafka import KafkaConsumer\n",
    "from time import sleep\n",
    "from json import dumps,loads\n",
    "import json\n",
    "from s3fs import S3FileSystem"
   ]
  },
  {
   "cell_type": "code",
   "execution_count": 8,
   "id": "aa2be508",
   "metadata": {},
   "outputs": [],
   "source": [
    "consumer = KafkaConsumer(\n",
    "    'demo_testing',\n",
    "     bootstrap_servers=['34.221.171.93:9092'], #add your IP here\n",
    "    value_deserializer=lambda x: loads(x.decode('utf-8')))"
   ]
  },
  {
   "cell_type": "code",
   "execution_count": 9,
   "id": "2215c67f",
   "metadata": {},
   "outputs": [
    {
     "name": "stdout",
     "output_type": "stream",
     "text": [
      "{'Index': '399001.SZ', 'Date': '2015-12-25', 'Open': 12960.25977, 'High': 13012.74023, 'Low': 12898.46973, 'Close': 12980.57031, 'Adj Close': 12980.42481, 'Volume': 1043300.0, 'CloseUSD': 2076.8912496}\n",
      "{'Index': '399001.SZ', 'Date': '2017-04-27', 'Open': 10174.25, 'High': 10244.08008, 'Low': 10015.88965, 'Close': 10229.19043, 'Adj Close': 10229.07617, 'Volume': 963200.0, 'CloseUSD': 1636.6704688000002}\n",
      "{'Index': 'N225', 'Date': '2005-03-11', 'Open': 11838.01953, 'High': 11964.20996, 'Low': 11838.01953, 'Close': 11923.88965, 'Adj Close': 11923.88965, 'Volume': 177800000.0, 'CloseUSD': 119.2388965}\n",
      "{'Index': 'N100', 'Date': '2005-06-15', 'Open': 716.950012, 'High': 718.47998, 'Low': 712.809998, 'Close': 713.539978, 'Adj Close': 713.539978, 'Volume': 0.0, 'CloseUSD': 870.51877316}\n",
      "{'Index': 'GDAXI', 'Date': '1996-11-20', 'Open': 2788.97998, 'High': 2794.050049, 'Low': 2756.72998, 'Close': 2766.080078, 'Adj Close': 2766.080078, 'Volume': 0.0, 'CloseUSD': 3374.61769516}\n",
      "{'Index': 'IXIC', 'Date': '1996-11-12', 'Open': 1267.380005, 'High': 1268.599976, 'Low': 1255.589966, 'Close': 1256.530029, 'Adj Close': 1256.530029, 'Volume': 593410000.0, 'CloseUSD': 1256.530029}\n",
      "{'Index': 'SSMI', 'Date': '2008-04-11', 'Open': 7352.600098, 'High': 7395.5, 'Low': 7221.899902, 'Close': 7259.0, 'Adj Close': 7259.0, 'Volume': 70387600.0, 'CloseUSD': 8057.490000000001}\n",
      "{'Index': 'NYA', 'Date': '2005-06-30', 'Open': 7262.310059, 'High': 7281.129883, 'Low': 7215.080078, 'Close': 7217.779785, 'Adj Close': 7217.779785, 'Volume': 2109490000.0, 'CloseUSD': 7217.779785}\n",
      "{'Index': 'GSPTSE', 'Date': '2019-01-16', 'Open': 15072.29981, 'High': 15118.29981, 'Low': 15057.0, 'Close': 15111.29981, 'Adj Close': 15111.29981, 'Volume': 24881680000.0, 'CloseUSD': 12542.3788423}\n",
      "{'Index': '399001.SZ', 'Date': '2017-06-30', 'Open': 10475.21973, 'High': 10537.5, 'Low': 10454.87988, 'Close': 10529.61035, 'Adj Close': 10529.49316, 'Volume': 749500.0, 'CloseUSD': 1684.7376560000002}\n",
      "{'Index': 'NYA', 'Date': '1980-08-01', 'Open': 734.23999, 'High': 734.23999, 'Low': 734.23999, 'Close': 734.23999, 'Adj Close': 734.23999, 'Volume': 0.0, 'CloseUSD': 734.23999}\n",
      "{'Index': 'IXIC', 'Date': '1986-04-24', 'Open': 390.0, 'High': 391.600006, 'Low': 389.100006, 'Close': 391.5, 'Adj Close': 391.5, 'Volume': 143100000.0, 'CloseUSD': 391.5}\n",
      "{'Index': 'NYA', 'Date': '1968-02-09', 'Open': 531.01001, 'High': 531.01001, 'Low': 531.01001, 'Close': 531.01001, 'Adj Close': 531.01001, 'Volume': 0.0, 'CloseUSD': 531.01001}\n",
      "{'Index': 'N100', 'Date': '2001-04-27', 'Open': 923.119995, 'High': 941.619995, 'Low': 920.919983, 'Close': 936.710022, 'Adj Close': 936.710022, 'Volume': 0.0, 'CloseUSD': 1142.78622684}\n",
      "{'Index': 'N225', 'Date': '1972-12-04', 'Open': 4872.459961, 'High': 4872.459961, 'Low': 4872.459961, 'Close': 4872.459961, 'Adj Close': 4872.459961, 'Volume': 0.0, 'CloseUSD': 48.72459961}\n",
      "{'Index': 'N225', 'Date': '1969-12-10', 'Open': 2219.189941, 'High': 2219.189941, 'Low': 2219.189941, 'Close': 2219.189941, 'Adj Close': 2219.189941, 'Volume': 0.0, 'CloseUSD': 22.19189941}\n",
      "{'Index': '000001.SS', 'Date': '1998-04-30', 'Open': 1336.01001, 'High': 1343.459961, 'Low': 1335.54895, 'Close': 1343.447998, 'Adj Close': 1343.447998, 'Volume': 0.0, 'CloseUSD': 214.95167968}\n",
      "{'Index': 'TWII', 'Date': '2020-06-17', 'Open': 11525.5, 'High': 11550.32031, 'Low': 11482.32031, 'Close': 11534.58984, 'Adj Close': 11534.58984, 'Volume': 3138800.0, 'CloseUSD': 461.3835936}\n",
      "{'Index': 'HSI', 'Date': '1990-10-09', 'Open': 2925.0, 'High': 2926.0, 'Low': 2898.0, 'Close': 2913.0, 'Adj Close': 2913.0, 'Volume': 0.0, 'CloseUSD': 378.69}\n",
      "{'Index': 'GSPTSE', 'Date': '2017-12-22', 'Open': 16180.5, 'High': 16197.0, 'Low': 16147.09961, 'Close': 16165.29981, 'Adj Close': 16165.29981, 'Volume': 13317350000.0, 'CloseUSD': 13417.1988423}\n",
      "{'Index': 'HSI', 'Date': '1994-01-24', 'Open': 11515.59961, 'High': 11708.59961, 'Low': 11515.59961, 'Close': 11600.09961, 'Adj Close': 11600.09961, 'Volume': 0.0, 'CloseUSD': 1508.0129493}\n",
      "{'Index': 'N100', 'Date': '2012-10-26', 'Open': 646.48999, 'High': 655.200012, 'Low': 646.01001, 'Close': 653.359985, 'Adj Close': 653.359985, 'Volume': 235936000.0, 'CloseUSD': 797.0991817}\n",
      "{'Index': 'GDAXI', 'Date': '1998-06-18', 'Open': 5777.700195, 'High': 5811.700195, 'Low': 5680.75, 'Close': 5689.890137, 'Adj Close': 5689.890137, 'Volume': 0.0, 'CloseUSD': 6941.66596714}\n",
      "{'Index': '000001.SS', 'Date': '2010-06-21', 'Open': 2517.291992, 'High': 2587.340088, 'Low': 2504.314941, 'Close': 2586.208984, 'Adj Close': 2586.208984, 'Volume': 78600.0, 'CloseUSD': 413.79343744}\n",
      "{'Index': 'HSI', 'Date': '2003-12-01', 'Open': 12306.25977, 'High': 12481.28027, 'Low': 12306.25977, 'Close': 12456.99023, 'Adj Close': 12456.99023, 'Volume': 304013400.0, 'CloseUSD': 1619.4087299}\n",
      "{'Index': 'IXIC', 'Date': '1991-05-15', 'Open': 486.119995, 'High': 487.540009, 'Low': 476.579987, 'Close': 478.079987, 'Adj Close': 478.079987, 'Volume': 186740000.0, 'CloseUSD': 478.079987}\n",
      "{'Index': 'TWII', 'Date': '2010-04-16', 'Open': 8161.850098, 'High': 8162.850098, 'Low': 8090.680176, 'Close': 8111.569824, 'Adj Close': 8111.539063, 'Volume': 4369400.0, 'CloseUSD': 324.46279296}\n",
      "{'Index': 'NYA', 'Date': '2001-10-02', 'Open': 5803.069824, 'High': 5803.069824, 'Low': 5803.069824, 'Close': 5803.069824, 'Adj Close': 5803.069824, 'Volume': 1289800000.0, 'CloseUSD': 5803.069824}\n",
      "{'Index': 'IXIC', 'Date': '1995-01-30', 'Open': 759.630005, 'High': 760.570007, 'Low': 751.48999, 'Close': 751.830017, 'Adj Close': 751.830017, 'Volume': 259470000.0, 'CloseUSD': 751.830017}\n",
      "{'Index': '399001.SZ', 'Date': '2000-10-26', 'Open': 4646.930176, 'High': 4654.709961, 'Low': 4588.819824, 'Close': 4594.680176, 'Adj Close': 4594.628906, 'Volume': 0.0, 'CloseUSD': 735.14882816}\n",
      "{'Index': 'J203.JO', 'Date': '2013-02-20', 'Open': 40732.51953, 'High': 40732.51953, 'Low': 40288.08984, 'Close': 40428.28125, 'Adj Close': 40428.28125, 'Volume': 0.0, 'CloseUSD': 2829.9796875}\n",
      "{'Index': 'GSPTSE', 'Date': '1992-05-06', 'Open': 3366.699951, 'High': 3368.199951, 'Low': 3359.5, 'Close': 3361.300049, 'Adj Close': 3361.300049, 'Volume': 30460000.0, 'CloseUSD': 2789.87904067}\n",
      "{'Index': 'GDAXI', 'Date': '1990-07-17', 'Open': 1929.060059, 'High': 1929.060059, 'Low': 1929.060059, 'Close': 1929.060059, 'Adj Close': 1929.060059, 'Volume': 0.0, 'CloseUSD': 2353.45327198}\n",
      "{'Index': 'IXIC', 'Date': '2007-07-03', 'Open': 2636.709961, 'High': 2644.949951, 'Low': 2635.0, 'Close': 2644.949951, 'Adj Close': 2644.949951, 'Volume': 1089120000.0, 'CloseUSD': 2644.949951}\n",
      "{'Index': 'N225', 'Date': '1993-04-21', 'Open': 19854.63086, 'High': 20008.13086, 'Low': 19672.01953, 'Close': 19773.00977, 'Adj Close': 19773.00977, 'Volume': 0.0, 'CloseUSD': 197.7300977}\n",
      "{'Index': 'HSI', 'Date': '1989-05-05', 'Open': 3262.899902, 'High': 3262.899902, 'Low': 3262.899902, 'Close': 3262.899902, 'Adj Close': 3262.899902, 'Volume': 0.0, 'CloseUSD': 424.17698726}\n",
      "{'Index': '399001.SZ', 'Date': '2008-11-25', 'Open': 6568.149902, 'High': 6609.080078, 'Low': 6390.339844, 'Close': 6489.0, 'Adj Close': 6488.927246, 'Volume': 58500.0, 'CloseUSD': 1038.24}\n",
      "{'Index': 'NSEI', 'Date': '2019-08-08', 'Open': 10899.2002, 'High': 11058.04981, 'Low': 10842.9502, 'Close': 11032.4502, 'Adj Close': 11032.4502, 'Volume': 482500.0, 'CloseUSD': 110.324502}\n",
      "{'Index': 'GDAXI', 'Date': '1988-05-26', 'Open': 1046.619995, 'High': 1046.619995, 'Low': 1046.619995, 'Close': 1046.619995, 'Adj Close': 1046.619995, 'Volume': 0.0, 'CloseUSD': 1276.8763939}\n",
      "{'Index': 'HSI', 'Date': '1987-01-16', 'Open': 2542.600098, 'High': 2542.600098, 'Low': 2542.600098, 'Close': 2542.600098, 'Adj Close': 2542.600098, 'Volume': 0.0, 'CloseUSD': 330.53801274}\n",
      "{'Index': 'N100', 'Date': '2018-03-06', 'Open': 1013.059998, 'High': 1015.900024, 'Low': 1009.23999, 'Close': 1009.25, 'Adj Close': 1009.25, 'Volume': 193292800.0, 'CloseUSD': 1231.285}\n",
      "{'Index': 'IXIC', 'Date': '1992-06-29', 'Open': 550.919983, 'High': 558.809998, 'Low': 549.030029, 'Close': 558.799988, 'Adj Close': 558.799988, 'Volume': 159520000.0, 'CloseUSD': 558.799988}\n",
      "{'Index': 'IXIC', 'Date': '2004-12-27', 'Open': 2168.820068, 'High': 2171.939941, 'Low': 2147.590088, 'Close': 2154.219971, 'Adj Close': 2154.219971, 'Volume': 1478700000.0, 'CloseUSD': 2154.219971}\n",
      "{'Index': 'J203.JO', 'Date': '2020-08-27', 'Open': 56572.23828, 'High': 57368.37891, 'Low': 56572.23828, 'Close': 56869.67188, 'Adj Close': 56869.67188, 'Volume': 0.0, 'CloseUSD': 3980.877031600001}\n",
      "{'Index': 'N225', 'Date': '1991-08-13', 'Open': 22927.55078, 'High': 23113.9707, 'Low': 22843.73047, 'Close': 22872.0, 'Adj Close': 22872.0, 'Volume': 0.0, 'CloseUSD': 228.72}\n",
      "{'Index': 'N100', 'Date': '2018-11-05', 'Open': 991.119995, 'High': 994.070007, 'Low': 988.789978, 'Close': 989.440002, 'Adj Close': 989.440002, 'Volume': 149887700.0, 'CloseUSD': 1207.11680244}\n",
      "{'Index': 'GDAXI', 'Date': '2004-08-03', 'Open': 3869.139893, 'High': 3891.780029, 'Low': 3864.790039, 'Close': 3877.320068, 'Adj Close': 3877.320068, 'Volume': 73555300.0, 'CloseUSD': 4730.33048296}\n",
      "{'Index': 'N225', 'Date': '2016-07-26', 'Open': 16535.81055, 'High': 16535.81055, 'Low': 16323.09961, 'Close': 16383.04004, 'Adj Close': 16383.04004, 'Volume': 129400000.0, 'CloseUSD': 163.8304004}\n",
      "{'Index': 'N225', 'Date': '2018-08-09', 'Open': 22591.53906, 'High': 22648.88086, 'Low': 22497.99023, 'Close': 22598.39063, 'Adj Close': 22598.39063, 'Volume': 61800000.0, 'CloseUSD': 225.98390630000003}\n",
      "{'Index': 'GSPTSE', 'Date': '2012-03-06', 'Open': 12406.59961, 'High': 12486.79981, 'Low': 12249.90039, 'Close': 12298.59961, 'Adj Close': 12298.59961, 'Volume': 28122690000.0, 'CloseUSD': 10207.8376763}\n",
      "{'Index': 'NYA', 'Date': '2015-07-16', 'Open': 11013.33008, 'High': 11032.61035, 'Low': 11011.54004, 'Close': 11024.87012, 'Adj Close': 11024.87012, 'Volume': 3227080000.0, 'CloseUSD': 11024.87012}\n",
      "{'Index': 'NYA', 'Date': '1980-01-11', 'Open': 669.630005, 'High': 669.630005, 'Low': 669.630005, 'Close': 669.630005, 'Adj Close': 669.630005, 'Volume': 0.0, 'CloseUSD': 669.630005}\n",
      "{'Index': 'N225', 'Date': '2011-09-05', 'Open': 8828.459961, 'High': 8842.55957, 'Low': 8757.179688, 'Close': 8784.459961, 'Adj Close': 8784.459961, 'Volume': 112100000.0, 'CloseUSD': 87.84459961}\n",
      "{'Index': 'GDAXI', 'Date': '2004-04-19', 'Open': 4033.0, 'High': 4040.679932, 'Low': 3995.590088, 'Close': 4025.070068, 'Adj Close': 4025.070068, 'Volume': 61363200.0, 'CloseUSD': 4910.58548296}\n",
      "{'Index': 'N225', 'Date': '1969-11-26', 'Open': 2201.409912, 'High': 2201.409912, 'Low': 2201.409912, 'Close': 2201.409912, 'Adj Close': 2201.409912, 'Volume': 0.0, 'CloseUSD': 22.01409912}\n",
      "{'Index': 'NSEI', 'Date': '2019-12-03', 'Open': 12067.65039, 'High': 12068.59961, 'Low': 11956.40039, 'Close': 11994.2002, 'Adj Close': 11994.2002, 'Volume': 605800.0, 'CloseUSD': 119.942002}\n",
      "{'Index': 'SSMI', 'Date': '1996-04-22', 'Open': 3630.5, 'High': 3679.100098, 'Low': 3630.5, 'Close': 3673.199951, 'Adj Close': 3673.199951, 'Volume': 0.0, 'CloseUSD': 4077.25194561}\n",
      "{'Index': 'GDAXI', 'Date': '2004-09-24', 'Open': 3900.52002, 'High': 3917.719971, 'Low': 3887.840088, 'Close': 3910.300049, 'Adj Close': 3910.300049, 'Volume': 64228100.0, 'CloseUSD': 4770.56605978}\n",
      "{'Index': 'N225', 'Date': '1993-06-10', 'Open': 20589.90039, 'High': 20618.31055, 'Low': 20399.56055, 'Close': 20493.32031, 'Adj Close': 20493.32031, 'Volume': 0.0, 'CloseUSD': 204.9332031}\n",
      "{'Index': 'NSEI', 'Date': '2017-01-19', 'Open': 8418.400391, 'High': 8445.150391, 'Low': 8404.049805, 'Close': 8435.099609, 'Adj Close': 8435.099609, 'Volume': 165900.0, 'CloseUSD': 84.35099609000001}\n",
      "{'Index': '000001.SS', 'Date': '2009-07-27', 'Open': 3377.716064, 'High': 3435.933105, 'Low': 3376.285889, 'Close': 3435.211914, 'Adj Close': 3435.211914, 'Volume': 197600.0, 'CloseUSD': 549.63390624}\n",
      "{'Index': 'N225', 'Date': '1980-02-20', 'Open': 6806.009766, 'High': 6806.009766, 'Low': 6806.009766, 'Close': 6806.009766, 'Adj Close': 6806.009766, 'Volume': 0.0, 'CloseUSD': 68.06009766}\n",
      "{'Index': 'N100', 'Date': '2004-06-03', 'Open': 620.400024, 'High': 622.309998, 'Low': 616.599976, 'Close': 622.309998, 'Adj Close': 622.309998, 'Volume': 0.0, 'CloseUSD': 759.2181975599999}\n",
      "{'Index': 'N225', 'Date': '2013-04-08', 'Open': 13082.61035, 'High': 13225.21973, 'Low': 13080.29004, 'Close': 13192.58984, 'Adj Close': 13192.58984, 'Volume': 313900000.0, 'CloseUSD': 131.9258984}\n",
      "{'Index': 'TWII', 'Date': '2003-09-04', 'Open': 5681.259766, 'High': 5702.160156, 'Low': 5624.75, 'Close': 5625.629883, 'Adj Close': 5625.608887, 'Volume': 3673400.0, 'CloseUSD': 225.02519532}\n",
      "{'Index': 'SSMI', 'Date': '2002-02-14', 'Open': 6361.0, 'High': 6421.600098, 'Low': 6338.899902, 'Close': 6421.600098, 'Adj Close': 6421.600098, 'Volume': 0.0, 'CloseUSD': 7127.976108780001}\n",
      "{'Index': 'HSI', 'Date': '1999-12-20', 'Open': 15999.99023, 'High': 16260.76953, 'Low': 15885.21973, 'Close': 16212.38965, 'Adj Close': 16212.38965, 'Volume': 0.0, 'CloseUSD': 2107.6106545}\n",
      "{'Index': 'IXIC', 'Date': '1977-01-27', 'Open': 96.040001, 'High': 96.040001, 'Low': 96.040001, 'Close': 96.040001, 'Adj Close': 96.040001, 'Volume': 0.0, 'CloseUSD': 96.040001}\n",
      "{'Index': 'N100', 'Date': '2000-01-17', 'Open': 979.960022, 'High': 979.960022, 'Low': 979.960022, 'Close': 979.960022, 'Adj Close': 979.960022, 'Volume': 0.0, 'CloseUSD': 1195.55122684}\n",
      "{'Index': 'NYA', 'Date': '2013-06-20', 'Open': 9157.759766, 'High': 9157.759766, 'Low': 8974.339844, 'Close': 8995.969727, 'Adj Close': 8995.969727, 'Volume': 4858850000.0, 'CloseUSD': 8995.969727}\n",
      "{'Index': 'SSMI', 'Date': '1993-07-26', 'Open': 2351.199951, 'High': 2389.399902, 'Low': 2351.199951, 'Close': 2388.800049, 'Adj Close': 2388.800049, 'Volume': 0.0, 'CloseUSD': 2651.5680543900003}\n",
      "{'Index': 'SSMI', 'Date': '2016-10-12', 'Open': 8122.75, 'High': 8127.779785, 'Low': 8068.560059, 'Close': 8068.560059, 'Adj Close': 8068.560059, 'Volume': 38908600.0, 'CloseUSD': 8956.101665490001}\n",
      "{'Index': 'HSI', 'Date': '1993-11-18', 'Open': 9327.0, 'High': 9454.599609, 'Low': 9166.0, 'Close': 9335.400391, 'Adj Close': 9335.400391, 'Volume': 0.0, 'CloseUSD': 1213.60205083}\n",
      "{'Index': 'IXIC', 'Date': '1989-07-07', 'Open': 440.0, 'High': 443.100006, 'Low': 439.799988, 'Close': 442.399994, 'Adj Close': 442.399994, 'Volume': 120310000.0, 'CloseUSD': 442.399994}\n",
      "{'Index': 'IXIC', 'Date': '1974-04-01', 'Open': 91.900002, 'High': 91.900002, 'Low': 91.900002, 'Close': 91.900002, 'Adj Close': 91.900002, 'Volume': 0.0, 'CloseUSD': 91.900002}\n",
      "{'Index': 'N225', 'Date': '1966-11-22', 'Open': 1424.97998, 'High': 1424.97998, 'Low': 1424.97998, 'Close': 1424.97998, 'Adj Close': 1424.97998, 'Volume': 0.0, 'CloseUSD': 14.249799800000002}\n",
      "{'Index': 'NSEI', 'Date': '2018-08-21', 'Open': 11576.2002, 'High': 11581.75, 'Low': 11539.59961, 'Close': 11570.90039, 'Adj Close': 11570.90039, 'Volume': 224200.0, 'CloseUSD': 115.7090039}\n",
      "{'Index': 'N100', 'Date': '2020-07-15', 'Open': 1005.469971, 'High': 1019.960022, 'Low': 1003.799988, 'Close': 1013.359985, 'Adj Close': 1013.359985, 'Volume': 242905900.0, 'CloseUSD': 1236.2991817}\n",
      "{'Index': 'J203.JO', 'Date': '2015-05-29', 'Open': 52810.35938, 'High': 52836.83984, 'Low': 52270.85938, 'Close': 52270.85938, 'Adj Close': 52270.85938, 'Volume': 0.0, 'CloseUSD': 3658.9601566000006}\n",
      "{'Index': 'SSMI', 'Date': '1993-06-15', 'Open': 2295.100098, 'High': 2298.100098, 'Low': 2271.0, 'Close': 2274.0, 'Adj Close': 2274.0, 'Volume': 0.0, 'CloseUSD': 2524.1400000000003}\n",
      "{'Index': 'GSPTSE', 'Date': '2020-08-26', 'Open': 16642.59961, 'High': 16792.69922, 'Low': 16611.40039, 'Close': 16790.0, 'Adj Close': 16790.0, 'Volume': 17212630000.0, 'CloseUSD': 13935.7}\n",
      "{'Index': 'NYA', 'Date': '1980-12-12', 'Open': 784.150024, 'High': 784.150024, 'Low': 784.150024, 'Close': 784.150024, 'Adj Close': 784.150024, 'Volume': 0.0, 'CloseUSD': 784.150024}\n",
      "{'Index': 'GDAXI', 'Date': '2002-10-18', 'Open': 3172.340088, 'High': 3226.25, 'Low': 3083.459961, 'Close': 3163.669922, 'Adj Close': 3163.669922, 'Volume': 107921600.0, 'CloseUSD': 3859.67730484}\n",
      "{'Index': 'IXIC', 'Date': '2008-07-03', 'Open': 2261.73999, 'High': 2262.959961, 'Low': 2227.800049, 'Close': 2245.379883, 'Adj Close': 2245.379883, 'Volume': 1423670000.0, 'CloseUSD': 2245.379883}\n",
      "{'Index': '399001.SZ', 'Date': '2021-05-18', 'Open': 14462.41016, 'High': 14497.90039, 'Low': 14345.99023, 'Close': 14450.59961, 'Adj Close': 14450.59961, 'Volume': 1186900.0, 'CloseUSD': 2312.0959376}\n",
      "{'Index': 'GDAXI', 'Date': '1996-10-01', 'Open': 2646.97998, 'High': 2657.850098, 'Low': 2644.48999, 'Close': 2654.340088, 'Adj Close': 2654.340088, 'Volume': 0.0, 'CloseUSD': 3238.29490736}\n",
      "{'Index': 'IXIC', 'Date': '1988-03-09', 'Open': 379.700012, 'High': 380.700012, 'Low': 378.899994, 'Close': 380.299988, 'Adj Close': 380.299988, 'Volume': 158670000.0, 'CloseUSD': 380.299988}\n",
      "{'Index': 'GSPTSE', 'Date': '2004-10-28', 'Open': 8780.799805, 'High': 8803.900391, 'Low': 8747.400391, 'Close': 8781.0, 'Adj Close': 8781.0, 'Volume': 12909620000.0, 'CloseUSD': 7288.23}\n",
      "{'Index': 'NSEI', 'Date': '2015-03-31', 'Open': 8527.599609, 'High': 8550.450195, 'Low': 8454.150391, 'Close': 8491.0, 'Adj Close': 8491.0, 'Volume': 167200.0, 'CloseUSD': 84.91}\n",
      "{'Index': '399001.SZ', 'Date': '2011-06-01', 'Open': 11648.86035, 'High': 11719.63965, 'Low': 11593.83008, 'Close': 11699.83008, 'Adj Close': 11699.69922, 'Volume': 49900.0, 'CloseUSD': 1871.9728128}\n",
      "{'Index': 'GSPTSE', 'Date': '2011-10-27', 'Open': 12425.29981, 'High': 12526.29981, 'Low': 12186.09961, 'Close': 12465.40039, 'Adj Close': 12465.40039, 'Volume': 33054620000.0, 'CloseUSD': 10346.2823237}\n",
      "{'Index': 'IXIC', 'Date': '1992-06-10', 'Open': 573.25, 'High': 574.690002, 'Low': 569.590027, 'Close': 569.710022, 'Adj Close': 569.710022, 'Volume': 157030000.0, 'CloseUSD': 569.710022}\n",
      "{'Index': 'J203.JO', 'Date': '2013-04-19', 'Open': 37852.62109, 'High': 38422.21094, 'Low': 37852.62109, 'Close': 38422.21094, 'Adj Close': 38422.21094, 'Volume': 0.0, 'CloseUSD': 2689.5547658}\n",
      "{'Index': 'N225', 'Date': '2004-06-14', 'Open': 11495.79981, 'High': 11622.79981, 'Low': 11475.30957, 'Close': 11491.66016, 'Adj Close': 11491.66016, 'Volume': 68300000.0, 'CloseUSD': 114.9166016}\n",
      "{'Index': 'NYA', 'Date': '1989-11-27', 'Open': 2020.959961, 'High': 2020.959961, 'Low': 2020.959961, 'Close': 2020.959961, 'Adj Close': 2020.959961, 'Volume': 0.0, 'CloseUSD': 2020.959961}\n",
      "{'Index': 'TWII', 'Date': '2016-12-22', 'Open': 9204.290039, 'High': 9209.719727, 'Low': 9118.75, 'Close': 9118.75, 'Adj Close': 9118.743164, 'Volume': 1427400.0, 'CloseUSD': 364.75}\n",
      "{'Index': 'N225', 'Date': '2013-09-04', 'Open': 13875.16992, 'High': 14056.87988, 'Low': 13843.61035, 'Close': 14053.87012, 'Adj Close': 14053.87012, 'Volume': 138400000.0, 'CloseUSD': 140.5387012}\n"
     ]
    },
    {
     "ename": "KeyboardInterrupt",
     "evalue": "",
     "output_type": "error",
     "traceback": [
      "\u001b[1;31m---------------------------------------------------------------------------\u001b[0m",
      "\u001b[1;31mKeyboardInterrupt\u001b[0m                         Traceback (most recent call last)",
      "Cell \u001b[1;32mIn[9], line 1\u001b[0m\n\u001b[1;32m----> 1\u001b[0m \u001b[38;5;28;01mfor\u001b[39;00m c \u001b[38;5;129;01min\u001b[39;00m consumer:\n\u001b[0;32m      2\u001b[0m     \u001b[38;5;28mprint\u001b[39m(c\u001b[38;5;241m.\u001b[39mvalue)\n",
      "File \u001b[1;32m~\\anaconda3\\lib\\site-packages\\kafka\\consumer\\group.py:1193\u001b[0m, in \u001b[0;36mKafkaConsumer.__next__\u001b[1;34m(self)\u001b[0m\n\u001b[0;32m   1191\u001b[0m     \u001b[38;5;28;01mreturn\u001b[39;00m \u001b[38;5;28mself\u001b[39m\u001b[38;5;241m.\u001b[39mnext_v1()\n\u001b[0;32m   1192\u001b[0m \u001b[38;5;28;01melse\u001b[39;00m:\n\u001b[1;32m-> 1193\u001b[0m     \u001b[38;5;28;01mreturn\u001b[39;00m \u001b[38;5;28;43mself\u001b[39;49m\u001b[38;5;241;43m.\u001b[39;49m\u001b[43mnext_v2\u001b[49m\u001b[43m(\u001b[49m\u001b[43m)\u001b[49m\n",
      "File \u001b[1;32m~\\anaconda3\\lib\\site-packages\\kafka\\consumer\\group.py:1201\u001b[0m, in \u001b[0;36mKafkaConsumer.next_v2\u001b[1;34m(self)\u001b[0m\n\u001b[0;32m   1199\u001b[0m     \u001b[38;5;28mself\u001b[39m\u001b[38;5;241m.\u001b[39m_iterator \u001b[38;5;241m=\u001b[39m \u001b[38;5;28mself\u001b[39m\u001b[38;5;241m.\u001b[39m_message_generator_v2()\n\u001b[0;32m   1200\u001b[0m \u001b[38;5;28;01mtry\u001b[39;00m:\n\u001b[1;32m-> 1201\u001b[0m     \u001b[38;5;28;01mreturn\u001b[39;00m \u001b[38;5;28;43mnext\u001b[39;49m\u001b[43m(\u001b[49m\u001b[38;5;28;43mself\u001b[39;49m\u001b[38;5;241;43m.\u001b[39;49m\u001b[43m_iterator\u001b[49m\u001b[43m)\u001b[49m\n\u001b[0;32m   1202\u001b[0m \u001b[38;5;28;01mexcept\u001b[39;00m \u001b[38;5;167;01mStopIteration\u001b[39;00m:\n\u001b[0;32m   1203\u001b[0m     \u001b[38;5;28mself\u001b[39m\u001b[38;5;241m.\u001b[39m_iterator \u001b[38;5;241m=\u001b[39m \u001b[38;5;28;01mNone\u001b[39;00m\n",
      "File \u001b[1;32m~\\anaconda3\\lib\\site-packages\\kafka\\consumer\\group.py:1116\u001b[0m, in \u001b[0;36mKafkaConsumer._message_generator_v2\u001b[1;34m(self)\u001b[0m\n\u001b[0;32m   1114\u001b[0m \u001b[38;5;28;01mdef\u001b[39;00m \u001b[38;5;21m_message_generator_v2\u001b[39m(\u001b[38;5;28mself\u001b[39m):\n\u001b[0;32m   1115\u001b[0m     timeout_ms \u001b[38;5;241m=\u001b[39m \u001b[38;5;241m1000\u001b[39m \u001b[38;5;241m*\u001b[39m (\u001b[38;5;28mself\u001b[39m\u001b[38;5;241m.\u001b[39m_consumer_timeout \u001b[38;5;241m-\u001b[39m time\u001b[38;5;241m.\u001b[39mtime())\n\u001b[1;32m-> 1116\u001b[0m     record_map \u001b[38;5;241m=\u001b[39m \u001b[38;5;28;43mself\u001b[39;49m\u001b[38;5;241;43m.\u001b[39;49m\u001b[43mpoll\u001b[49m\u001b[43m(\u001b[49m\u001b[43mtimeout_ms\u001b[49m\u001b[38;5;241;43m=\u001b[39;49m\u001b[43mtimeout_ms\u001b[49m\u001b[43m,\u001b[49m\u001b[43m \u001b[49m\u001b[43mupdate_offsets\u001b[49m\u001b[38;5;241;43m=\u001b[39;49m\u001b[38;5;28;43;01mFalse\u001b[39;49;00m\u001b[43m)\u001b[49m\n\u001b[0;32m   1117\u001b[0m     \u001b[38;5;28;01mfor\u001b[39;00m tp, records \u001b[38;5;129;01min\u001b[39;00m six\u001b[38;5;241m.\u001b[39miteritems(record_map):\n\u001b[0;32m   1118\u001b[0m         \u001b[38;5;66;03m# Generators are stateful, and it is possible that the tp / records\u001b[39;00m\n\u001b[0;32m   1119\u001b[0m         \u001b[38;5;66;03m# here may become stale during iteration -- i.e., we seek to a\u001b[39;00m\n\u001b[0;32m   1120\u001b[0m         \u001b[38;5;66;03m# different offset, pause consumption, or lose assignment.\u001b[39;00m\n\u001b[0;32m   1121\u001b[0m         \u001b[38;5;28;01mfor\u001b[39;00m record \u001b[38;5;129;01min\u001b[39;00m records:\n\u001b[0;32m   1122\u001b[0m             \u001b[38;5;66;03m# is_fetchable(tp) should handle assignment changes and offset\u001b[39;00m\n\u001b[0;32m   1123\u001b[0m             \u001b[38;5;66;03m# resets; for all other changes (e.g., seeks) we'll rely on the\u001b[39;00m\n\u001b[0;32m   1124\u001b[0m             \u001b[38;5;66;03m# outer function destroying the existing iterator/generator\u001b[39;00m\n\u001b[0;32m   1125\u001b[0m             \u001b[38;5;66;03m# via self._iterator = None\u001b[39;00m\n",
      "File \u001b[1;32m~\\anaconda3\\lib\\site-packages\\kafka\\consumer\\group.py:655\u001b[0m, in \u001b[0;36mKafkaConsumer.poll\u001b[1;34m(self, timeout_ms, max_records, update_offsets)\u001b[0m\n\u001b[0;32m    653\u001b[0m remaining \u001b[38;5;241m=\u001b[39m timeout_ms\n\u001b[0;32m    654\u001b[0m \u001b[38;5;28;01mwhile\u001b[39;00m \u001b[38;5;28;01mTrue\u001b[39;00m:\n\u001b[1;32m--> 655\u001b[0m     records \u001b[38;5;241m=\u001b[39m \u001b[38;5;28;43mself\u001b[39;49m\u001b[38;5;241;43m.\u001b[39;49m\u001b[43m_poll_once\u001b[49m\u001b[43m(\u001b[49m\u001b[43mremaining\u001b[49m\u001b[43m,\u001b[49m\u001b[43m \u001b[49m\u001b[43mmax_records\u001b[49m\u001b[43m,\u001b[49m\u001b[43m \u001b[49m\u001b[43mupdate_offsets\u001b[49m\u001b[38;5;241;43m=\u001b[39;49m\u001b[43mupdate_offsets\u001b[49m\u001b[43m)\u001b[49m\n\u001b[0;32m    656\u001b[0m     \u001b[38;5;28;01mif\u001b[39;00m records:\n\u001b[0;32m    657\u001b[0m         \u001b[38;5;28;01mreturn\u001b[39;00m records\n",
      "File \u001b[1;32m~\\anaconda3\\lib\\site-packages\\kafka\\consumer\\group.py:702\u001b[0m, in \u001b[0;36mKafkaConsumer._poll_once\u001b[1;34m(self, timeout_ms, max_records, update_offsets)\u001b[0m\n\u001b[0;32m    699\u001b[0m     \u001b[38;5;28mself\u001b[39m\u001b[38;5;241m.\u001b[39m_client\u001b[38;5;241m.\u001b[39mpoll(timeout_ms\u001b[38;5;241m=\u001b[39m\u001b[38;5;241m0\u001b[39m)\n\u001b[0;32m    701\u001b[0m timeout_ms \u001b[38;5;241m=\u001b[39m \u001b[38;5;28mmin\u001b[39m(timeout_ms, \u001b[38;5;28mself\u001b[39m\u001b[38;5;241m.\u001b[39m_coordinator\u001b[38;5;241m.\u001b[39mtime_to_next_poll() \u001b[38;5;241m*\u001b[39m \u001b[38;5;241m1000\u001b[39m)\n\u001b[1;32m--> 702\u001b[0m \u001b[38;5;28;43mself\u001b[39;49m\u001b[38;5;241;43m.\u001b[39;49m\u001b[43m_client\u001b[49m\u001b[38;5;241;43m.\u001b[39;49m\u001b[43mpoll\u001b[49m\u001b[43m(\u001b[49m\u001b[43mtimeout_ms\u001b[49m\u001b[38;5;241;43m=\u001b[39;49m\u001b[43mtimeout_ms\u001b[49m\u001b[43m)\u001b[49m\n\u001b[0;32m    703\u001b[0m \u001b[38;5;66;03m# after the long poll, we should check whether the group needs to rebalance\u001b[39;00m\n\u001b[0;32m    704\u001b[0m \u001b[38;5;66;03m# prior to returning data so that the group can stabilize faster\u001b[39;00m\n\u001b[0;32m    705\u001b[0m \u001b[38;5;28;01mif\u001b[39;00m \u001b[38;5;28mself\u001b[39m\u001b[38;5;241m.\u001b[39m_coordinator\u001b[38;5;241m.\u001b[39mneed_rejoin():\n",
      "File \u001b[1;32m~\\anaconda3\\lib\\site-packages\\kafka\\client_async.py:602\u001b[0m, in \u001b[0;36mKafkaClient.poll\u001b[1;34m(self, timeout_ms, future)\u001b[0m\n\u001b[0;32m    599\u001b[0m             timeout \u001b[38;5;241m=\u001b[39m \u001b[38;5;28mmin\u001b[39m(timeout, \u001b[38;5;28mself\u001b[39m\u001b[38;5;241m.\u001b[39mconfig[\u001b[38;5;124m'\u001b[39m\u001b[38;5;124mretry_backoff_ms\u001b[39m\u001b[38;5;124m'\u001b[39m])\n\u001b[0;32m    600\u001b[0m         timeout \u001b[38;5;241m=\u001b[39m \u001b[38;5;28mmax\u001b[39m(\u001b[38;5;241m0\u001b[39m, timeout)  \u001b[38;5;66;03m# avoid negative timeouts\u001b[39;00m\n\u001b[1;32m--> 602\u001b[0m     \u001b[38;5;28;43mself\u001b[39;49m\u001b[38;5;241;43m.\u001b[39;49m\u001b[43m_poll\u001b[49m\u001b[43m(\u001b[49m\u001b[43mtimeout\u001b[49m\u001b[43m \u001b[49m\u001b[38;5;241;43m/\u001b[39;49m\u001b[43m \u001b[49m\u001b[38;5;241;43m1000\u001b[39;49m\u001b[43m)\u001b[49m\n\u001b[0;32m    604\u001b[0m \u001b[38;5;66;03m# called without the lock to avoid deadlock potential\u001b[39;00m\n\u001b[0;32m    605\u001b[0m \u001b[38;5;66;03m# if handlers need to acquire locks\u001b[39;00m\n\u001b[0;32m    606\u001b[0m responses\u001b[38;5;241m.\u001b[39mextend(\u001b[38;5;28mself\u001b[39m\u001b[38;5;241m.\u001b[39m_fire_pending_completed_requests())\n",
      "File \u001b[1;32m~\\anaconda3\\lib\\site-packages\\kafka\\client_async.py:634\u001b[0m, in \u001b[0;36mKafkaClient._poll\u001b[1;34m(self, timeout)\u001b[0m\n\u001b[0;32m    631\u001b[0m \u001b[38;5;28mself\u001b[39m\u001b[38;5;241m.\u001b[39m_register_send_sockets()\n\u001b[0;32m    633\u001b[0m start_select \u001b[38;5;241m=\u001b[39m time\u001b[38;5;241m.\u001b[39mtime()\n\u001b[1;32m--> 634\u001b[0m ready \u001b[38;5;241m=\u001b[39m \u001b[38;5;28;43mself\u001b[39;49m\u001b[38;5;241;43m.\u001b[39;49m\u001b[43m_selector\u001b[49m\u001b[38;5;241;43m.\u001b[39;49m\u001b[43mselect\u001b[49m\u001b[43m(\u001b[49m\u001b[43mtimeout\u001b[49m\u001b[43m)\u001b[49m\n\u001b[0;32m    635\u001b[0m end_select \u001b[38;5;241m=\u001b[39m time\u001b[38;5;241m.\u001b[39mtime()\n\u001b[0;32m    636\u001b[0m \u001b[38;5;28;01mif\u001b[39;00m \u001b[38;5;28mself\u001b[39m\u001b[38;5;241m.\u001b[39m_sensors:\n",
      "File \u001b[1;32m~\\anaconda3\\lib\\selectors.py:324\u001b[0m, in \u001b[0;36mSelectSelector.select\u001b[1;34m(self, timeout)\u001b[0m\n\u001b[0;32m    322\u001b[0m ready \u001b[38;5;241m=\u001b[39m []\n\u001b[0;32m    323\u001b[0m \u001b[38;5;28;01mtry\u001b[39;00m:\n\u001b[1;32m--> 324\u001b[0m     r, w, _ \u001b[38;5;241m=\u001b[39m \u001b[38;5;28;43mself\u001b[39;49m\u001b[38;5;241;43m.\u001b[39;49m\u001b[43m_select\u001b[49m\u001b[43m(\u001b[49m\u001b[38;5;28;43mself\u001b[39;49m\u001b[38;5;241;43m.\u001b[39;49m\u001b[43m_readers\u001b[49m\u001b[43m,\u001b[49m\u001b[43m \u001b[49m\u001b[38;5;28;43mself\u001b[39;49m\u001b[38;5;241;43m.\u001b[39;49m\u001b[43m_writers\u001b[49m\u001b[43m,\u001b[49m\u001b[43m \u001b[49m\u001b[43m[\u001b[49m\u001b[43m]\u001b[49m\u001b[43m,\u001b[49m\u001b[43m \u001b[49m\u001b[43mtimeout\u001b[49m\u001b[43m)\u001b[49m\n\u001b[0;32m    325\u001b[0m \u001b[38;5;28;01mexcept\u001b[39;00m \u001b[38;5;167;01mInterruptedError\u001b[39;00m:\n\u001b[0;32m    326\u001b[0m     \u001b[38;5;28;01mreturn\u001b[39;00m ready\n",
      "File \u001b[1;32m~\\anaconda3\\lib\\selectors.py:315\u001b[0m, in \u001b[0;36mSelectSelector._select\u001b[1;34m(self, r, w, _, timeout)\u001b[0m\n\u001b[0;32m    314\u001b[0m \u001b[38;5;28;01mdef\u001b[39;00m \u001b[38;5;21m_select\u001b[39m(\u001b[38;5;28mself\u001b[39m, r, w, _, timeout\u001b[38;5;241m=\u001b[39m\u001b[38;5;28;01mNone\u001b[39;00m):\n\u001b[1;32m--> 315\u001b[0m     r, w, x \u001b[38;5;241m=\u001b[39m \u001b[43mselect\u001b[49m\u001b[38;5;241;43m.\u001b[39;49m\u001b[43mselect\u001b[49m\u001b[43m(\u001b[49m\u001b[43mr\u001b[49m\u001b[43m,\u001b[49m\u001b[43m \u001b[49m\u001b[43mw\u001b[49m\u001b[43m,\u001b[49m\u001b[43m \u001b[49m\u001b[43mw\u001b[49m\u001b[43m,\u001b[49m\u001b[43m \u001b[49m\u001b[43mtimeout\u001b[49m\u001b[43m)\u001b[49m\n\u001b[0;32m    316\u001b[0m     \u001b[38;5;28;01mreturn\u001b[39;00m r, w \u001b[38;5;241m+\u001b[39m x, []\n",
      "\u001b[1;31mKeyboardInterrupt\u001b[0m: "
     ]
    }
   ],
   "source": [
    "# for c in consumer:\n",
    "#     print(c.value)"
   ]
  },
  {
   "cell_type": "code",
   "execution_count": 10,
   "id": "2971bfed",
   "metadata": {},
   "outputs": [],
   "source": [
    "s3 = S3FileSystem()"
   ]
  },
  {
   "cell_type": "code",
   "execution_count": 15,
   "id": "379fdd41",
   "metadata": {},
   "outputs": [
    {
     "ename": "KeyboardInterrupt",
     "evalue": "",
     "output_type": "error",
     "traceback": [
      "\u001b[1;31m---------------------------------------------------------------------------\u001b[0m",
      "\u001b[1;31mKeyboardInterrupt\u001b[0m                         Traceback (most recent call last)",
      "Cell \u001b[1;32mIn[15], line 1\u001b[0m\n\u001b[1;32m----> 1\u001b[0m \u001b[38;5;28;01mfor\u001b[39;00m count, i \u001b[38;5;129;01min\u001b[39;00m \u001b[38;5;28menumerate\u001b[39m(consumer):\n\u001b[0;32m      2\u001b[0m     \u001b[38;5;28;01mwith\u001b[39;00m s3\u001b[38;5;241m.\u001b[39mopen(\u001b[38;5;124m\"\u001b[39m\u001b[38;5;124ms3://kafka-stock-market-project-manoj/stock_market_\u001b[39m\u001b[38;5;132;01m{}\u001b[39;00m\u001b[38;5;124m.json\u001b[39m\u001b[38;5;124m\"\u001b[39m\u001b[38;5;241m.\u001b[39mformat(count), \u001b[38;5;124m'\u001b[39m\u001b[38;5;124mw\u001b[39m\u001b[38;5;124m'\u001b[39m) \u001b[38;5;28;01mas\u001b[39;00m file:\n\u001b[0;32m      3\u001b[0m         json\u001b[38;5;241m.\u001b[39mdump(i\u001b[38;5;241m.\u001b[39mvalue, file)\n",
      "File \u001b[1;32m~\\anaconda3\\lib\\site-packages\\kafka\\consumer\\group.py:1193\u001b[0m, in \u001b[0;36mKafkaConsumer.__next__\u001b[1;34m(self)\u001b[0m\n\u001b[0;32m   1191\u001b[0m     \u001b[38;5;28;01mreturn\u001b[39;00m \u001b[38;5;28mself\u001b[39m\u001b[38;5;241m.\u001b[39mnext_v1()\n\u001b[0;32m   1192\u001b[0m \u001b[38;5;28;01melse\u001b[39;00m:\n\u001b[1;32m-> 1193\u001b[0m     \u001b[38;5;28;01mreturn\u001b[39;00m \u001b[38;5;28;43mself\u001b[39;49m\u001b[38;5;241;43m.\u001b[39;49m\u001b[43mnext_v2\u001b[49m\u001b[43m(\u001b[49m\u001b[43m)\u001b[49m\n",
      "File \u001b[1;32m~\\anaconda3\\lib\\site-packages\\kafka\\consumer\\group.py:1201\u001b[0m, in \u001b[0;36mKafkaConsumer.next_v2\u001b[1;34m(self)\u001b[0m\n\u001b[0;32m   1199\u001b[0m     \u001b[38;5;28mself\u001b[39m\u001b[38;5;241m.\u001b[39m_iterator \u001b[38;5;241m=\u001b[39m \u001b[38;5;28mself\u001b[39m\u001b[38;5;241m.\u001b[39m_message_generator_v2()\n\u001b[0;32m   1200\u001b[0m \u001b[38;5;28;01mtry\u001b[39;00m:\n\u001b[1;32m-> 1201\u001b[0m     \u001b[38;5;28;01mreturn\u001b[39;00m \u001b[38;5;28;43mnext\u001b[39;49m\u001b[43m(\u001b[49m\u001b[38;5;28;43mself\u001b[39;49m\u001b[38;5;241;43m.\u001b[39;49m\u001b[43m_iterator\u001b[49m\u001b[43m)\u001b[49m\n\u001b[0;32m   1202\u001b[0m \u001b[38;5;28;01mexcept\u001b[39;00m \u001b[38;5;167;01mStopIteration\u001b[39;00m:\n\u001b[0;32m   1203\u001b[0m     \u001b[38;5;28mself\u001b[39m\u001b[38;5;241m.\u001b[39m_iterator \u001b[38;5;241m=\u001b[39m \u001b[38;5;28;01mNone\u001b[39;00m\n",
      "File \u001b[1;32m~\\anaconda3\\lib\\site-packages\\kafka\\consumer\\group.py:1116\u001b[0m, in \u001b[0;36mKafkaConsumer._message_generator_v2\u001b[1;34m(self)\u001b[0m\n\u001b[0;32m   1114\u001b[0m \u001b[38;5;28;01mdef\u001b[39;00m \u001b[38;5;21m_message_generator_v2\u001b[39m(\u001b[38;5;28mself\u001b[39m):\n\u001b[0;32m   1115\u001b[0m     timeout_ms \u001b[38;5;241m=\u001b[39m \u001b[38;5;241m1000\u001b[39m \u001b[38;5;241m*\u001b[39m (\u001b[38;5;28mself\u001b[39m\u001b[38;5;241m.\u001b[39m_consumer_timeout \u001b[38;5;241m-\u001b[39m time\u001b[38;5;241m.\u001b[39mtime())\n\u001b[1;32m-> 1116\u001b[0m     record_map \u001b[38;5;241m=\u001b[39m \u001b[38;5;28;43mself\u001b[39;49m\u001b[38;5;241;43m.\u001b[39;49m\u001b[43mpoll\u001b[49m\u001b[43m(\u001b[49m\u001b[43mtimeout_ms\u001b[49m\u001b[38;5;241;43m=\u001b[39;49m\u001b[43mtimeout_ms\u001b[49m\u001b[43m,\u001b[49m\u001b[43m \u001b[49m\u001b[43mupdate_offsets\u001b[49m\u001b[38;5;241;43m=\u001b[39;49m\u001b[38;5;28;43;01mFalse\u001b[39;49;00m\u001b[43m)\u001b[49m\n\u001b[0;32m   1117\u001b[0m     \u001b[38;5;28;01mfor\u001b[39;00m tp, records \u001b[38;5;129;01min\u001b[39;00m six\u001b[38;5;241m.\u001b[39miteritems(record_map):\n\u001b[0;32m   1118\u001b[0m         \u001b[38;5;66;03m# Generators are stateful, and it is possible that the tp / records\u001b[39;00m\n\u001b[0;32m   1119\u001b[0m         \u001b[38;5;66;03m# here may become stale during iteration -- i.e., we seek to a\u001b[39;00m\n\u001b[0;32m   1120\u001b[0m         \u001b[38;5;66;03m# different offset, pause consumption, or lose assignment.\u001b[39;00m\n\u001b[0;32m   1121\u001b[0m         \u001b[38;5;28;01mfor\u001b[39;00m record \u001b[38;5;129;01min\u001b[39;00m records:\n\u001b[0;32m   1122\u001b[0m             \u001b[38;5;66;03m# is_fetchable(tp) should handle assignment changes and offset\u001b[39;00m\n\u001b[0;32m   1123\u001b[0m             \u001b[38;5;66;03m# resets; for all other changes (e.g., seeks) we'll rely on the\u001b[39;00m\n\u001b[0;32m   1124\u001b[0m             \u001b[38;5;66;03m# outer function destroying the existing iterator/generator\u001b[39;00m\n\u001b[0;32m   1125\u001b[0m             \u001b[38;5;66;03m# via self._iterator = None\u001b[39;00m\n",
      "File \u001b[1;32m~\\anaconda3\\lib\\site-packages\\kafka\\consumer\\group.py:655\u001b[0m, in \u001b[0;36mKafkaConsumer.poll\u001b[1;34m(self, timeout_ms, max_records, update_offsets)\u001b[0m\n\u001b[0;32m    653\u001b[0m remaining \u001b[38;5;241m=\u001b[39m timeout_ms\n\u001b[0;32m    654\u001b[0m \u001b[38;5;28;01mwhile\u001b[39;00m \u001b[38;5;28;01mTrue\u001b[39;00m:\n\u001b[1;32m--> 655\u001b[0m     records \u001b[38;5;241m=\u001b[39m \u001b[38;5;28;43mself\u001b[39;49m\u001b[38;5;241;43m.\u001b[39;49m\u001b[43m_poll_once\u001b[49m\u001b[43m(\u001b[49m\u001b[43mremaining\u001b[49m\u001b[43m,\u001b[49m\u001b[43m \u001b[49m\u001b[43mmax_records\u001b[49m\u001b[43m,\u001b[49m\u001b[43m \u001b[49m\u001b[43mupdate_offsets\u001b[49m\u001b[38;5;241;43m=\u001b[39;49m\u001b[43mupdate_offsets\u001b[49m\u001b[43m)\u001b[49m\n\u001b[0;32m    656\u001b[0m     \u001b[38;5;28;01mif\u001b[39;00m records:\n\u001b[0;32m    657\u001b[0m         \u001b[38;5;28;01mreturn\u001b[39;00m records\n",
      "File \u001b[1;32m~\\anaconda3\\lib\\site-packages\\kafka\\consumer\\group.py:702\u001b[0m, in \u001b[0;36mKafkaConsumer._poll_once\u001b[1;34m(self, timeout_ms, max_records, update_offsets)\u001b[0m\n\u001b[0;32m    699\u001b[0m     \u001b[38;5;28mself\u001b[39m\u001b[38;5;241m.\u001b[39m_client\u001b[38;5;241m.\u001b[39mpoll(timeout_ms\u001b[38;5;241m=\u001b[39m\u001b[38;5;241m0\u001b[39m)\n\u001b[0;32m    701\u001b[0m timeout_ms \u001b[38;5;241m=\u001b[39m \u001b[38;5;28mmin\u001b[39m(timeout_ms, \u001b[38;5;28mself\u001b[39m\u001b[38;5;241m.\u001b[39m_coordinator\u001b[38;5;241m.\u001b[39mtime_to_next_poll() \u001b[38;5;241m*\u001b[39m \u001b[38;5;241m1000\u001b[39m)\n\u001b[1;32m--> 702\u001b[0m \u001b[38;5;28;43mself\u001b[39;49m\u001b[38;5;241;43m.\u001b[39;49m\u001b[43m_client\u001b[49m\u001b[38;5;241;43m.\u001b[39;49m\u001b[43mpoll\u001b[49m\u001b[43m(\u001b[49m\u001b[43mtimeout_ms\u001b[49m\u001b[38;5;241;43m=\u001b[39;49m\u001b[43mtimeout_ms\u001b[49m\u001b[43m)\u001b[49m\n\u001b[0;32m    703\u001b[0m \u001b[38;5;66;03m# after the long poll, we should check whether the group needs to rebalance\u001b[39;00m\n\u001b[0;32m    704\u001b[0m \u001b[38;5;66;03m# prior to returning data so that the group can stabilize faster\u001b[39;00m\n\u001b[0;32m    705\u001b[0m \u001b[38;5;28;01mif\u001b[39;00m \u001b[38;5;28mself\u001b[39m\u001b[38;5;241m.\u001b[39m_coordinator\u001b[38;5;241m.\u001b[39mneed_rejoin():\n",
      "File \u001b[1;32m~\\anaconda3\\lib\\site-packages\\kafka\\client_async.py:602\u001b[0m, in \u001b[0;36mKafkaClient.poll\u001b[1;34m(self, timeout_ms, future)\u001b[0m\n\u001b[0;32m    599\u001b[0m             timeout \u001b[38;5;241m=\u001b[39m \u001b[38;5;28mmin\u001b[39m(timeout, \u001b[38;5;28mself\u001b[39m\u001b[38;5;241m.\u001b[39mconfig[\u001b[38;5;124m'\u001b[39m\u001b[38;5;124mretry_backoff_ms\u001b[39m\u001b[38;5;124m'\u001b[39m])\n\u001b[0;32m    600\u001b[0m         timeout \u001b[38;5;241m=\u001b[39m \u001b[38;5;28mmax\u001b[39m(\u001b[38;5;241m0\u001b[39m, timeout)  \u001b[38;5;66;03m# avoid negative timeouts\u001b[39;00m\n\u001b[1;32m--> 602\u001b[0m     \u001b[38;5;28;43mself\u001b[39;49m\u001b[38;5;241;43m.\u001b[39;49m\u001b[43m_poll\u001b[49m\u001b[43m(\u001b[49m\u001b[43mtimeout\u001b[49m\u001b[43m \u001b[49m\u001b[38;5;241;43m/\u001b[39;49m\u001b[43m \u001b[49m\u001b[38;5;241;43m1000\u001b[39;49m\u001b[43m)\u001b[49m\n\u001b[0;32m    604\u001b[0m \u001b[38;5;66;03m# called without the lock to avoid deadlock potential\u001b[39;00m\n\u001b[0;32m    605\u001b[0m \u001b[38;5;66;03m# if handlers need to acquire locks\u001b[39;00m\n\u001b[0;32m    606\u001b[0m responses\u001b[38;5;241m.\u001b[39mextend(\u001b[38;5;28mself\u001b[39m\u001b[38;5;241m.\u001b[39m_fire_pending_completed_requests())\n",
      "File \u001b[1;32m~\\anaconda3\\lib\\site-packages\\kafka\\client_async.py:634\u001b[0m, in \u001b[0;36mKafkaClient._poll\u001b[1;34m(self, timeout)\u001b[0m\n\u001b[0;32m    631\u001b[0m \u001b[38;5;28mself\u001b[39m\u001b[38;5;241m.\u001b[39m_register_send_sockets()\n\u001b[0;32m    633\u001b[0m start_select \u001b[38;5;241m=\u001b[39m time\u001b[38;5;241m.\u001b[39mtime()\n\u001b[1;32m--> 634\u001b[0m ready \u001b[38;5;241m=\u001b[39m \u001b[38;5;28;43mself\u001b[39;49m\u001b[38;5;241;43m.\u001b[39;49m\u001b[43m_selector\u001b[49m\u001b[38;5;241;43m.\u001b[39;49m\u001b[43mselect\u001b[49m\u001b[43m(\u001b[49m\u001b[43mtimeout\u001b[49m\u001b[43m)\u001b[49m\n\u001b[0;32m    635\u001b[0m end_select \u001b[38;5;241m=\u001b[39m time\u001b[38;5;241m.\u001b[39mtime()\n\u001b[0;32m    636\u001b[0m \u001b[38;5;28;01mif\u001b[39;00m \u001b[38;5;28mself\u001b[39m\u001b[38;5;241m.\u001b[39m_sensors:\n",
      "File \u001b[1;32m~\\anaconda3\\lib\\selectors.py:324\u001b[0m, in \u001b[0;36mSelectSelector.select\u001b[1;34m(self, timeout)\u001b[0m\n\u001b[0;32m    322\u001b[0m ready \u001b[38;5;241m=\u001b[39m []\n\u001b[0;32m    323\u001b[0m \u001b[38;5;28;01mtry\u001b[39;00m:\n\u001b[1;32m--> 324\u001b[0m     r, w, _ \u001b[38;5;241m=\u001b[39m \u001b[38;5;28;43mself\u001b[39;49m\u001b[38;5;241;43m.\u001b[39;49m\u001b[43m_select\u001b[49m\u001b[43m(\u001b[49m\u001b[38;5;28;43mself\u001b[39;49m\u001b[38;5;241;43m.\u001b[39;49m\u001b[43m_readers\u001b[49m\u001b[43m,\u001b[49m\u001b[43m \u001b[49m\u001b[38;5;28;43mself\u001b[39;49m\u001b[38;5;241;43m.\u001b[39;49m\u001b[43m_writers\u001b[49m\u001b[43m,\u001b[49m\u001b[43m \u001b[49m\u001b[43m[\u001b[49m\u001b[43m]\u001b[49m\u001b[43m,\u001b[49m\u001b[43m \u001b[49m\u001b[43mtimeout\u001b[49m\u001b[43m)\u001b[49m\n\u001b[0;32m    325\u001b[0m \u001b[38;5;28;01mexcept\u001b[39;00m \u001b[38;5;167;01mInterruptedError\u001b[39;00m:\n\u001b[0;32m    326\u001b[0m     \u001b[38;5;28;01mreturn\u001b[39;00m ready\n",
      "File \u001b[1;32m~\\anaconda3\\lib\\selectors.py:315\u001b[0m, in \u001b[0;36mSelectSelector._select\u001b[1;34m(self, r, w, _, timeout)\u001b[0m\n\u001b[0;32m    314\u001b[0m \u001b[38;5;28;01mdef\u001b[39;00m \u001b[38;5;21m_select\u001b[39m(\u001b[38;5;28mself\u001b[39m, r, w, _, timeout\u001b[38;5;241m=\u001b[39m\u001b[38;5;28;01mNone\u001b[39;00m):\n\u001b[1;32m--> 315\u001b[0m     r, w, x \u001b[38;5;241m=\u001b[39m \u001b[43mselect\u001b[49m\u001b[38;5;241;43m.\u001b[39;49m\u001b[43mselect\u001b[49m\u001b[43m(\u001b[49m\u001b[43mr\u001b[49m\u001b[43m,\u001b[49m\u001b[43m \u001b[49m\u001b[43mw\u001b[49m\u001b[43m,\u001b[49m\u001b[43m \u001b[49m\u001b[43mw\u001b[49m\u001b[43m,\u001b[49m\u001b[43m \u001b[49m\u001b[43mtimeout\u001b[49m\u001b[43m)\u001b[49m\n\u001b[0;32m    316\u001b[0m     \u001b[38;5;28;01mreturn\u001b[39;00m r, w \u001b[38;5;241m+\u001b[39m x, []\n",
      "\u001b[1;31mKeyboardInterrupt\u001b[0m: "
     ]
    }
   ],
   "source": [
    "for count, i in enumerate(consumer):\n",
    "    with s3.open(\"s3://kafka-stock-market-project-manoj/stock_market_{}.json\".format(count), 'w') as file:\n",
    "        json.dump(i.value, file)   "
   ]
  },
  {
   "cell_type": "code",
   "execution_count": null,
   "id": "6960b59b",
   "metadata": {},
   "outputs": [],
   "source": []
  }
 ],
 "metadata": {
  "kernelspec": {
   "display_name": "Python 3 (ipykernel)",
   "language": "python",
   "name": "python3"
  },
  "language_info": {
   "codemirror_mode": {
    "name": "ipython",
    "version": 3
   },
   "file_extension": ".py",
   "mimetype": "text/x-python",
   "name": "python",
   "nbconvert_exporter": "python",
   "pygments_lexer": "ipython3",
   "version": "3.10.9"
  }
 },
 "nbformat": 4,
 "nbformat_minor": 5
}
